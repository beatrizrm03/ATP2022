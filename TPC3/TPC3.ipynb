{
 "cells": [
  {
   "cell_type": "markdown",
   "id": "1e545158",
   "metadata": {},
   "source": [
    "Catarina Freitas Nunes A100471\n",
    "\n",
    "# Exercícios da aula prática 3 + TPC 2 "
   ]
  },
  {
   "cell_type": "markdown",
   "id": "e38d18c4-d7d7-4fea-9bc6-e3f3c903386b",
   "metadata": {},
   "source": [
    "### Exercício 1: Criar uma lista \n",
    "- Defina uma função que recebe um argumento **N** e devolve uma  lista com os números pares até **N**;\n",
    "- Crie um programa que chama a função e imprime a lista resultante."
   ]
  },
  {
   "cell_type": "code",
   "execution_count": 7,
   "id": "af973146-3bb4-4fa8-ba6c-b887b79ccff8",
   "metadata": {},
   "outputs": [],
   "source": [
    "# Solução do exercício 1\n",
    "\n",
    "def criaLista(N):\n",
    "    lista=[]\n",
    "    i=0\n",
    "    while (i <= N): \n",
    "        if i % 2 == 0:\n",
    "            lista.append(i)\n",
    "        i= i + 1\n",
    "        \n",
    "    return lista"
   ]
  },
  {
   "cell_type": "code",
   "execution_count": 8,
   "id": "75dfafc0",
   "metadata": {},
   "outputs": [
    {
     "data": {
      "text/plain": [
       "[0, 2]"
      ]
     },
     "execution_count": 8,
     "metadata": {},
     "output_type": "execute_result"
    }
   ],
   "source": [
    "x = int(input(\"insira o valor N\"))\n",
    "criaLista(x)"
   ]
  },
  {
   "cell_type": "markdown",
   "id": "bdcbffb0",
   "metadata": {},
   "source": [
    "### Exercício 2: Ler uma lista de N números\n",
    "- Defina uma função que recebe um argumento **N** e lê **N** números armazenando-os numa lista que é devolvida como resultado;\n",
    "- Crie um programa que chama a função e imprime a lista resultante."
   ]
  },
  {
   "cell_type": "code",
   "execution_count": 26,
   "id": "af973146-3bb4-4fa8-ba6c-b887b79ccff8",
   "metadata": {},
   "outputs": [],
   "source": [
    "# Solução do exercício 2\n",
    "def leLista(N):\n",
    "    \n",
    "    while (N>0):\n",
    "        a=int(input(\"número\"))\n",
    "        lista.append(a)                   # não defini lista porque está já definida na aplicação\n",
    "        N=N - 1 \n",
    "        \n",
    "    return lista     \n"
   ]
  },
  {
   "cell_type": "code",
   "execution_count": 23,
   "id": "34c1fc4c",
   "metadata": {},
   "outputs": [
    {
     "data": {
      "text/plain": [
       "[1, 2, 3]"
      ]
     },
     "execution_count": 23,
     "metadata": {},
     "output_type": "execute_result"
    }
   ],
   "source": [
    "x= int(input('insira N'))\n",
    "leLista(x)"
   ]
  },
  {
   "cell_type": "markdown",
   "id": "bdcbffb0",
   "metadata": {},
   "source": [
    "### Exercício 3: Somar uma lista de números\n",
    "- Defina uma função que recebe uma lista como argumento e devolve a soma dos números nessa lista."
   ]
  },
  {
   "cell_type": "code",
   "execution_count": 48,
   "id": "64ad6f7b",
   "metadata": {},
   "outputs": [],
   "source": [
    "# Solução do exercício 3\n",
    "def somaLista(lista):\n",
    "    \n",
    "    soma = 0\n",
    "    for i in lista:\n",
    "        soma= soma + i \n",
    "           \n",
    "    print(soma)    # é preciso dar print porque, senão, na aplicação não aparece o resultado da soma\n",
    "    \n",
    "    return soma"
   ]
  },
  {
   "cell_type": "markdown",
   "id": "bdcbffb0",
   "metadata": {},
   "source": [
    "### Exercício 4: Calcular a média duma lista de números\n",
    "- Defina uma função que recebe uma lista como argumento e devolve a média dos números nessa lista."
   ]
  },
  {
   "cell_type": "code",
   "execution_count": 47,
   "id": "a6c32b2e",
   "metadata": {},
   "outputs": [],
   "source": [
    "# Solução do exercício 4\n",
    "def mediaLista(lista):\n",
    "    \n",
    "    soma_lista = 0\n",
    "    \n",
    "    for i in lista:\n",
    "        soma_lista = soma_lista + i\n",
    "    \n",
    "    media = soma_lista / len(lista)\n",
    "    \n",
    "    print(media)   # é preciso dar print porque, senão, na aplicação não aparece o resultado da média\n",
    "    \n",
    "    return media"
   ]
  },
  {
   "cell_type": "markdown",
   "id": "f41ef69b",
   "metadata": {},
   "source": [
    "### Exercício 5: Maior de uma sequência\n",
    "- Defina uma função que recebe uma lista como argumento e devolve o maior número nessa lista."
   ]
  },
  {
   "cell_type": "code",
   "execution_count": 52,
   "id": "86f5b24d",
   "metadata": {},
   "outputs": [],
   "source": [
    "# Solução do exercício 5\n",
    "def maiorLista(lista):\n",
    "    \n",
    "    maior= lista[0]\n",
    "    \n",
    "    for i in lista[1:]:\n",
    "        if i> maior:\n",
    "            maior= i\n",
    "            \n",
    "    print(maior)    # para o jogo\n",
    "    \n",
    "    return maior"
   ]
  },
  {
   "cell_type": "markdown",
   "id": "d11cdd11",
   "metadata": {},
   "source": [
    "### Exercício 6: Menor de uma sequência\n",
    "- Defina uma função que recebe uma lista como argumento e devolve o menor número nessa lista."
   ]
  },
  {
   "cell_type": "code",
   "execution_count": 53,
   "id": "7549c7d7",
   "metadata": {},
   "outputs": [],
   "source": [
    "# Solução do exercício 6\n",
    "def menorLista(lista):\n",
    "    \n",
    "    menor= lista[0]\n",
    "    \n",
    "    for i in lista[1:]:\n",
    "        if i< menor:\n",
    "            menor= i\n",
    "            \n",
    "    print(menor)\n",
    "    \n",
    "    return menor"
   ]
  },
  {
   "cell_type": "markdown",
   "id": "775a02a5",
   "metadata": {},
   "source": [
    "### Exercício 7: Contar strings\n",
    "- Defina uma função que recebe uma lista de strings como argumento e devolve número de strings nessa lista que:\n",
    "    1. Têm tamanho maior ou igual a 2;\n",
    "    2. Começam e terminam pelo mesmo caracter."
   ]
  },
  {
   "cell_type": "code",
   "execution_count": 75,
   "id": "7390bc6a",
   "metadata": {},
   "outputs": [],
   "source": [
    "# Solução do exercício 7\n",
    "def contarStringsLista(lista):\n",
    "    total=0 \n",
    "    for i in lista:\n",
    "        if len(i) >= 2 and i[0] == i[-1]:\n",
    "                total= total + 1\n",
    "    return total"
   ]
  },
  {
   "cell_type": "markdown",
   "id": "f9ba457b",
   "metadata": {},
   "source": [
    "### Exercício 8: Remover duplicados\n",
    "- Defina uma função que recebe uma lista como argumento e devolve uma nova lista eliminando elementos repetidos."
   ]
  },
  {
   "cell_type": "code",
   "execution_count": null,
   "id": "0abc61e5",
   "metadata": {},
   "outputs": [],
   "source": [
    "# Solução do exercício 8\n",
    "def remDupLista(lista):\n",
    "    resultado = []\n",
    "    for i in lista:\n",
    "        if i not in resultado:\n",
    "            resultado.append(i)\n",
    "    \n",
    "    return resultado"
   ]
  },
  {
   "cell_type": "markdown",
   "id": "9bc471d8",
   "metadata": {},
   "source": [
    "### Exercício 9: eVazia?\n",
    "- Defina uma função que recebe uma lista como argumento e devolve um resultado booleano verdadeiro se a lista estiver vazia."
   ]
  },
  {
   "cell_type": "code",
   "execution_count": null,
   "id": "18cf2aff",
   "metadata": {},
   "outputs": [],
   "source": [
    "# Solução do exercício 9\n",
    "def eVazia(lista):\n",
    "    resultado= bool\n",
    "    if lista==[]:\n",
    "        resultado= True\n",
    "    else:\n",
    "        resultado= False\n",
    "        \n",
    "    return resultado"
   ]
  },
  {
   "cell_type": "markdown",
   "id": "72b8fac0",
   "metadata": {},
   "source": [
    "### Exercício 10: Copiar lista\n",
    "- Defina uma função que recebe uma lista como argumento e devolve uma nova lista correspondente a uma cópia da lista recebida."
   ]
  },
  {
   "cell_type": "code",
   "execution_count": null,
   "id": "a61ca503",
   "metadata": {},
   "outputs": [],
   "source": [
    "# Solução do exercício 10\n",
    "\n",
    "def copiarLista(lista):\n",
    "    \n",
    "    lista2 = lista\n",
    "    return lista2"
   ]
  },
  {
   "cell_type": "markdown",
   "id": "d170cc50",
   "metadata": {},
   "source": [
    "### Exercício 11: Strings maiores que n carateres\n",
    "- Defina uma função que recebe dois argumentos, uma lista de strings e um número inteiro, e que devolve uma nova lista de strings em que estas têm um comprimento igual ou superior ao valor inteiro passado como argumento."
   ]
  },
  {
   "cell_type": "code",
   "execution_count": null,
   "id": "1944ef1d",
   "metadata": {},
   "outputs": [],
   "source": [
    "# Solução do exercício 11\n",
    "def stringsMaioresLista(lista, n):                                                                     \n",
    "    lista2=[]\n",
    "    for s in lista:\n",
    "        if len(s)>=n:\n",
    "            lista2.append(s)\n",
    "        \n",
    "    return lista2"
   ]
  },
  {
   "cell_type": "markdown",
   "id": "af46fe06",
   "metadata": {},
   "source": [
    "### Exercício 12: Comum?\n",
    "- Defina uma função que recebe duas listas como argumento, e que devolve o valor booleano verdadeiro se as listas tiverem pelo menos um elemento comum."
   ]
  },
  {
   "cell_type": "code",
   "execution_count": null,
   "id": "7a2f4413",
   "metadata": {},
   "outputs": [],
   "source": [
    "# Solução do exercício 12\n",
    "def haComuns(listaA, listaB):\n",
    "    valor= False \n",
    "    for i in listaA:\n",
    "        if i in listaB:\n",
    "            valor= True \n",
    "    \n",
    "    return valor"
   ]
  },
  {
   "cell_type": "markdown",
   "id": "061bae0e",
   "metadata": {},
   "source": [
    "### Exercício 13: Comuns\n",
    "- Defina uma função que recebe duas listas como argumento, e que devolve uma nova lista com os valores comuns às duas listas."
   ]
  },
  {
   "cell_type": "code",
   "execution_count": null,
   "id": "02db9458",
   "metadata": {},
   "outputs": [],
   "source": [
    "# Solução do exercício 13\n",
    "def comuns(listaA, listaB):\n",
    "    \n",
    "    resultado=[]\n",
    "    \n",
    "    for i in listaA:\n",
    "        if i in listaB:\n",
    "            resultado.append(i)\n",
    "            \n",
    "    return resultado"
   ]
  },
  {
   "cell_type": "markdown",
   "id": "af4f2b11",
   "metadata": {},
   "source": [
    "### Exercício 14: Únicos\n",
    "- Defina uma função que recebe duas listas como argumento, e que devolve uma nova lista com os valores que apenas existem numa delas."
   ]
  },
  {
   "cell_type": "code",
   "execution_count": null,
   "id": "01a0d35e",
   "metadata": {},
   "outputs": [],
   "source": [
    "# Solução do exercício 14                                        dúvida: é suposto a lista resultado ser aleatória?\n",
    "import random\n",
    "\n",
    "\n",
    "def unicos(listaA, listaB):\n",
    "    x= random.randrange(1,3)\n",
    "    print(x)\n",
    "    \n",
    "    resultado=[]\n",
    "    \n",
    "    if x == 1:\n",
    "        resultado.append(listaA)\n",
    "    elif x== 2:\n",
    "        resultado.append(listaB)\n",
    "    \n",
    "    return resultado"
   ]
  },
  {
   "cell_type": "code",
   "execution_count": null,
   "id": "2d50eb45",
   "metadata": {},
   "outputs": [
    {
     "name": "stdout",
     "output_type": "stream",
     "text": [
      "1\n"
     ]
    },
    {
     "data": {
      "text/plain": [
       "[['a', 'ab', 'abc']]"
      ]
     },
     "execution_count": 106,
     "metadata": {},
     "output_type": "execute_result"
    }
   ],
   "source": [
    "unicos(['a','ab','abc'],[1,12,123])"
   ]
  },
  {
   "cell_type": "markdown",
   "id": "2acbab46",
   "metadata": {},
   "source": [
    "### Exercício 15: indiceDe\n",
    "- Defina uma função que recebe uma lista e um elemento como argumento, e que devolve o índice desse elemento na lista. No caso do elemento não existir na lista deverá devolver o valor -1."
   ]
  },
  {
   "cell_type": "code",
   "execution_count": 69,
   "id": "3891e6c3",
   "metadata": {},
   "outputs": [],
   "source": [
    "# Solução do exercício 15\n",
    "def índice_do_elem(lista, elem):\n",
    "    \n",
    "    for i,v in enumerate(lista):\n",
    "        if v == elem:\n",
    "            print('o índice é', i)\n",
    "            \n",
    "            return i\n",
    "    print('o elemento não existe na lista')\n",
    "    return -1"
   ]
  },
  {
   "cell_type": "code",
   "execution_count": 68,
   "id": "e704318a",
   "metadata": {},
   "outputs": [
    {
     "name": "stdout",
     "output_type": "stream",
     "text": [
      "o elemento não existe na lista\n"
     ]
    },
    {
     "data": {
      "text/plain": [
       "-1"
      ]
     },
     "execution_count": 68,
     "metadata": {},
     "output_type": "execute_result"
    }
   ],
   "source": [
    "lista=[1,2,3,'m']\n",
    "índice_do_elem(lista, 7)\n"
   ]
  },
  {
   "cell_type": "markdown",
   "id": "1d9c2fbc",
   "metadata": {},
   "source": [
    "### Exercício 16: estaOrdenada\n",
    "- Defina uma função que recebe uma lista de números e verifica se a mesma está ordenada por ordem crescente."
   ]
  },
  {
   "cell_type": "code",
   "execution_count": 61,
   "id": "fb44546a",
   "metadata": {},
   "outputs": [],
   "source": [
    "# Solução do exercício 16\n",
    "def estaOrdenadaC(lista):\n",
    "    prev= lista[0]\n",
    "    for i in lista:\n",
    "        if i >= prev:\n",
    "            prev = i\n",
    "        else:\n",
    "            print('Não')\n",
    "            \n",
    "            return False\n",
    "        \n",
    "    print('Sim')    \n",
    "    \n",
    "    return True"
   ]
  },
  {
   "cell_type": "code",
   "execution_count": 60,
   "id": "da577a54",
   "metadata": {},
   "outputs": [],
   "source": [
    "# ver se está ordenada por ordem decrescente (para o jogo)\n",
    "\n",
    "def estaOrdenadaD(lista):\n",
    "    prev= lista[0]\n",
    "    for i in lista:\n",
    "        if i<= prev:\n",
    "            prev=i\n",
    "        else:\n",
    "            print('Não')\n",
    "            \n",
    "            return False\n",
    "    print('Sim')\n",
    "    \n",
    "    return True"
   ]
  },
  {
   "cell_type": "code",
   "execution_count": 58,
   "id": "144268a8",
   "metadata": {},
   "outputs": [
    {
     "name": "stdout",
     "output_type": "stream",
     "text": [
      "Não\n"
     ]
    },
    {
     "data": {
      "text/plain": [
       "False"
      ]
     },
     "execution_count": 58,
     "metadata": {},
     "output_type": "execute_result"
    }
   ],
   "source": [
    "lista=[3,1,2]\n",
    "estaOrdenadaD(lista)"
   ]
  },
  {
   "cell_type": "markdown",
   "id": "4c48dc90",
   "metadata": {},
   "source": [
    "### Exercício 17: estaOrdenadaCD\n",
    "- Modifique a função do exercício anterior para receber um parâmetro extra, **ordem**, que poderá ter valores \"C\" ou \"D\" e que vai verificar se a lista está ordenada por ordem crescente se **ordem=\"C\"** ou se está ordenada por ordem decrescente se **ordem=\"D\"**."
   ]
  },
  {
   "cell_type": "code",
   "execution_count": null,
   "id": "f4b83960",
   "metadata": {},
   "outputs": [],
   "source": [
    "# Solução do exercício 17\n",
    "def estaOrdenadaCD(lista, ordem):\n",
    "    prev= lista[0]\n",
    "    \n",
    "    if ordem == 'C':\n",
    "         \n",
    "        for i in lista:\n",
    "            if i >= prev:\n",
    "                prev = i\n",
    "            else:\n",
    "                return False    \n",
    "        return True\n",
    "    \n",
    "    elif ordem == 'D':\n",
    "        for i in lista:\n",
    "            if i <= prev:\n",
    "                prev = i\n",
    "            else:\n",
    "                return False    \n",
    "        return True    "
   ]
  },
  {
   "cell_type": "code",
   "execution_count": null,
   "id": "91b5450b",
   "metadata": {},
   "outputs": [
    {
     "data": {
      "text/plain": [
       "False"
      ]
     },
     "execution_count": 43,
     "metadata": {},
     "output_type": "execute_result"
    }
   ],
   "source": [
    "#estaOrdenadaCD([1,2,3], 'C')\n",
    "estaOrdenadaCD([3,1,2],'D')\n"
   ]
  },
  {
   "cell_type": "markdown",
   "id": "4193a91b",
   "metadata": {},
   "source": [
    "### TPC3: Aplicação para manipulação de listas de inteiros\n",
    "- Crie uma aplicação em Python que coloca no monitor o seguinte menu:\n",
    "    * (1) Criar Lista \n",
    "    * (2) Ler Lista\n",
    "    * (3) Soma\n",
    "    * (4) Média\n",
    "    * (5) Maior\n",
    "    * (6) Menor\n",
    "    * (7) estaOrdenada por ordem crescente\n",
    "    * (8) estaOrdenada por ordem decrescente\n",
    "    * (9) Procura um elemento\n",
    "    * (0) Sair\n",
    "- O utilizador irá escolher uma das opções introduzindo o número correspondente;\n",
    "- Se a opção não for sair, a aplicação executa a operação pretendida, apresenta o resultado e a seguir apresenta de novo o menu;\n",
    "- Se a opção for sair, a aplicação termina colocando uma mensagem no monitor.\n",
    "\n",
    "* No desenvolvimento da aplicação deverá ter em atenção o seguinte:\n",
    "    - A aplicação terá uma variável interna para guardar uma lista de números;\n",
    "    - Na opção 1, deverá ser criada uma lista de números aleatórios entre 1 e 100 que será guardada na variável interna;\n",
    "    - Na opção 2, deverá ser criada uma lista com números introduzidos pelo utilizador, que será guardada na variável interna;\n",
    "    - Nestas primeiras opções, se a variável interna já tiver uma lista, esta será sobreposta/apagada pela nova lista;\n",
    "    - Na opção 3, será calculada a soma dos elementos na lista no momento;\n",
    "    - Na opção 4, será calculada a média dos elementos na lista no momento;\n",
    "    - Na opção 5, será calculado o maior elemento da lista no momento;\n",
    "    - Na opção 6, será calculado o menor elemento da lista no momento;\n",
    "    - Na opção 7, a aplicação deverá indicar (Sim/Não) se a lista está ordenada por ordem crescente;\n",
    "    - Na opção 8, a aplicação deverá indicar (Sim/Não) se a lista está ordenada por ordem decrescente;\n",
    "    - Na opção 9, a aplicação irá procurar um ellmento na lista, se o encontrar deverá devolver a sua posição;\n",
    "    - Se o utilizador selecionar a opção 0, a aplicação deverá terminar mostrando a lista que está nesse momento guardada."
   ]
  },
  {
   "cell_type": "code",
   "execution_count": null,
   "id": "f58034e1",
   "metadata": {},
   "outputs": [
    {
     "name": "stdout",
     "output_type": "stream",
     "text": [
      "[40, 44, 15, 97, 34, 72, 29, 83, 55, 31, 93, 71, 71, 71, 15, 86, 11, 6, 64, 23, 60, 63, 18, 55, 77, 25, 83, 24, 77, 38, 14, 58, 77, 39, 74, 58, 86, 51, 30, 39, 35, 33, 82, 19, 4, 75, 72, 53, 8, 31, 96, 5, 97, 6, 94, 21, 11, 65, 100, 41, 62, 64, 34, 41, 7, 4, 69, 15, 70, 17, 1, 50, 76, 90, 33, 95, 33, 48, 2, 54, 65, 41, 2, 58, 24, 28, 75, 95, 27, 2, 7, 93, 10, 40, 17, 96, 73, 61, 72, 96, 100]\n"
     ]
    }
   ],
   "source": [
    "# 1\n",
    "import random\n",
    "\n",
    "lista=[]\n",
    "for i in range(0,101):\n",
    "        n= random.randint(0,101)\n",
    "        lista.append(n)\n",
    "        \n",
    "print(lista)"
   ]
  },
  {
   "cell_type": "code",
   "execution_count": 1,
   "id": "878e99c7",
   "metadata": {},
   "outputs": [
    {
     "name": "stdout",
     "output_type": "stream",
     "text": [
      "---------------MENU-----------------\n",
      "1. Criar Lista\n",
      "2. Ler Lista\n",
      "\n",
      "\n",
      "3. Soma\n",
      "4. Média\n",
      "5. Maior\n",
      "6. Menor\n",
      "7. estaOrdenada por ordem crescente\n",
      "8. estaOrdenada por ordem decrescente\n",
      "9. Procura um elemento\n",
      "0. Sair\n",
      "\n",
      "\n",
      "[]\n"
     ]
    },
    {
     "ename": "NameError",
     "evalue": "name 'mediaLista' is not defined",
     "output_type": "error",
     "traceback": [
      "\u001b[1;31m---------------------------------------------------------------------------\u001b[0m",
      "\u001b[1;31mNameError\u001b[0m                                 Traceback (most recent call last)",
      "Cell \u001b[1;32mIn [1], line 45\u001b[0m\n\u001b[0;32m     43\u001b[0m \u001b[39mif\u001b[39;00m escolha\u001b[39m==\u001b[39m\u001b[39m4\u001b[39m:\n\u001b[0;32m     44\u001b[0m     \u001b[39mprint\u001b[39m(lista)\n\u001b[1;32m---> 45\u001b[0m     mediaLista(lista)\n\u001b[0;32m     47\u001b[0m \u001b[39mif\u001b[39;00m escolha \u001b[39m==\u001b[39m \u001b[39m5\u001b[39m:\n\u001b[0;32m     48\u001b[0m     maiorLista(lista)\n",
      "\u001b[1;31mNameError\u001b[0m: name 'mediaLista' is not defined"
     ]
    }
   ],
   "source": [
    "import random\n",
    "\n",
    "def menu():\n",
    "    print('---------------MENU-----------------')\n",
    "    print('1. Criar Lista')\n",
    "    print('2. Ler Lista')\n",
    "    print('\\n')\n",
    "    print('3. Soma')\n",
    "    print('4. Média')\n",
    "    print('5. Maior')\n",
    "    print('6. Menor')\n",
    "    print('7. estaOrdenada por ordem crescente')\n",
    "    print('8. estaOrdenada por ordem decrescente')\n",
    "    print('9. Procura um elemento')\n",
    "    print('0. Sair')\n",
    "    print(\"\\n\",flush=True)\n",
    "    return int(input('escolha uma opção'))\n",
    "    \n",
    "    \n",
    "lista=[]\n",
    "\n",
    "escolha= -1\n",
    "\n",
    "while escolha != 0:\n",
    "    escolha= menu()\n",
    "\n",
    "    if escolha == 1:\n",
    "        lista=[]\n",
    "        for i in range(0,100):\n",
    "            n= random.randint(1,101)\n",
    "            lista.append(n)\n",
    "        print(lista)\n",
    "    \n",
    "    elif escolha == 2:\n",
    "        lista=[]\n",
    "        x= int(input('insira N'))\n",
    "        leLista(x)\n",
    "        print(lista)\n",
    "    \n",
    "    if escolha == 3:\n",
    "        somaLista(lista)\n",
    "    \n",
    "    if escolha==4:\n",
    "        print(lista)\n",
    "        mediaLista(lista)\n",
    "    \n",
    "    if escolha == 5:\n",
    "        maiorLista(lista)\n",
    "        \n",
    "    if escolha == 6:\n",
    "        menorLista(lista)\n",
    "    \n",
    "    if escolha == 7:\n",
    "        estaOrdenadaC(lista)\n",
    "        \n",
    "    if escolha == 8:\n",
    "        estaOrdenadaD(lista)\n",
    "        \n",
    "    if escolha == 9:\n",
    "        elem= int(input('insira o elemento da lista cujo índice quer encontrar'))\n",
    "        índice_do_elem(lista,elem)\n",
    "\n",
    "if escolha==0:\n",
    "    print('a lista guardada neste momento é:',lista)\n",
    "        \n",
    "    \n",
    "    \n",
    "    \n",
    "        \n",
    "        \n",
    "        \n",
    "    \n",
    "    \n",
    "        \n",
    "    \n"
   ]
  },
  {
   "cell_type": "code",
   "execution_count": null,
   "id": "e4682c46",
   "metadata": {},
   "outputs": [],
   "source": []
  }
 ],
 "metadata": {
  "kernelspec": {
   "display_name": "Python 3.10.7 64-bit",
   "language": "python",
   "name": "python3"
  },
  "language_info": {
   "codemirror_mode": {
    "name": "ipython",
    "version": 3
   },
   "file_extension": ".py",
   "mimetype": "text/x-python",
   "name": "python",
   "nbconvert_exporter": "python",
   "pygments_lexer": "ipython3",
   "version": "3.10.7"
  },
  "vscode": {
   "interpreter": {
    "hash": "11bc3faa42291987dff8047a7fe728de8bffd01e5e426b1fc111590146fa91bf"
   }
  }
 },
 "nbformat": 4,
 "nbformat_minor": 5
}
