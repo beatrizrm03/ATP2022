{
 "cells": [
  {
   "cell_type": "markdown",
   "metadata": {},
   "source": [
    "### TPC7: Análise de dados: Alunos\n",
    "\n",
    "Descarregue o ficheiro de dados: `alunos.csv`\n",
    "Crie um programa em Python, conjunto de funções, que responda às seguintes questões:\n",
    "* ((Crie uma função que lê a informação do ficheiro para um modelo, previamente pensado em memória;))\n",
    "* Crie uma função que calcula a distribuição dos alunos por curso;\n",
    "* Crie uma função que calcula a média das notas de cada aluno e acrescenta essa nova coluna no dataset em memória;\n",
    "* Considere os seguintes escalões de notas: E [1-4], D [5-8], C [9-12], B [13-16], A [17-20], acrescente uma coluna ao dataset com o escalão correspondente a cada aluno;\n",
    "* Crie uma distribuição dos alunos por escalão;\n",
    "* Crie uma função que apresenta na forma dum gráfico de linha uma distribuição;\n",
    "* Crie uma função que imprime na forma de uma tabela uma distribuição;\n",
    "* Especifique um programa que, ciclicamente, apresenta um menu com todas funcionalidades ao utilizador."
   ]
  },
  {
   "cell_type": "code",
   "execution_count": null,
   "metadata": {},
   "outputs": [
    {
     "name": "stdout",
     "output_type": "stream",
     "text": [
      "[{'id_aluno': 'a1', 'nome': 'Aysha Melanie Gilberto', 'curso': 'LEI', 'tpc1': '12', 'tpc2': '8', 'tpc3': '19', 'tpc4': '8'}, {'id_aluno': 'a2', 'nome': 'Igor André Cantanhede', 'curso': 'ENGFIS', 'tpc1': '12', 'tpc2': '16', 'tpc3': '18', 'tpc4': '20'}, {'id_aluno': 'a3', 'nome': 'Laurénio Narciso', 'curso': 'ENGFIS', 'tpc1': '8', 'tpc2': '14', 'tpc3': '15', 'tpc4': '14'}, {'id_aluno': 'a4', 'nome': 'Jasnoor Casegas', 'curso': 'LCC', 'tpc1': '14', 'tpc2': '20', 'tpc3': '17', 'tpc4': '11'}, {'id_aluno': 'a5', 'nome': 'Tawseef Rebouças', 'curso': 'ENGBIOM', 'tpc1': '13', 'tpc2': '14', 'tpc3': '13', 'tpc4': '17'}, {'id_aluno': 'a6', 'nome': 'Eryk Clementino', 'curso': 'LEI', 'tpc1': '10', 'tpc2': '19', 'tpc3': '11', 'tpc4': '14'}, {'id_aluno': 'a7', 'nome': 'Ianna Noivo', 'curso': 'ENGBIOM', 'tpc1': '15', 'tpc2': '15', 'tpc3': '17', 'tpc4': '16'}, {'id_aluno': 'a8', 'nome': 'Ayla Thaissa Reina', 'curso': 'ENGBIOM', 'tpc1': '12', 'tpc2': '8', 'tpc3': '8', 'tpc4': '18'}, {'id_aluno': 'a9', 'nome': 'Cássia Viviane Coitã', 'curso': 'ENGFIS', 'tpc1': '19', 'tpc2': '9', 'tpc3': '14', 'tpc4': '10'}, {'id_aluno': 'a10', 'nome': 'Koby Vindima', 'curso': 'LEI', 'tpc1': '9', 'tpc2': '14', 'tpc3': '20', 'tpc4': '13'}, {'id_aluno': 'a11', 'nome': 'Gustavo Martim Hernandez', 'curso': 'ENGBIOM', 'tpc1': '11', 'tpc2': '8', 'tpc3': '14', 'tpc4': '11'}, {'id_aluno': 'a12', 'nome': 'Siddarta Beiriz', 'curso': 'LEI', 'tpc1': '17', 'tpc2': '10', 'tpc3': '16', 'tpc4': '16'}, {'id_aluno': 'a13', 'nome': 'Daniela Patrícia Montes', 'curso': 'ENGBIOM', 'tpc1': '15', 'tpc2': '15', 'tpc3': '18', 'tpc4': '19'}, {'id_aluno': 'a14', 'nome': 'Kaylla Pessego', 'curso': 'LCC', 'tpc1': '10', 'tpc2': '14', 'tpc3': '17', 'tpc4': '15'}, {'id_aluno': 'a15', 'nome': 'Bianca Cristina Primitivo', 'curso': 'ENGBIOM', 'tpc1': '16', 'tpc2': '9', 'tpc3': '18', 'tpc4': '10'}, {'id_aluno': 'a16', 'nome': 'Magna Galhardo', 'curso': 'ENGFIS', 'tpc1': '20', 'tpc2': '18', 'tpc3': '9', 'tpc4': '14'}, {'id_aluno': 'a17', 'nome': 'Grace Isabel Patriarca', 'curso': 'LCC', 'tpc1': '19', 'tpc2': '13', 'tpc3': '9', 'tpc4': '10'}, {'id_aluno': 'a18', 'nome': 'Saubhagya Buco', 'curso': 'LEI', 'tpc1': '18', 'tpc2': '18', 'tpc3': '17', 'tpc4': '8'}, {'id_aluno': 'a19', 'nome': 'Ivo Vicente Boisa', 'curso': 'ENGBIOM', 'tpc1': '14', 'tpc2': '10', 'tpc3': '18', 'tpc4': '13'}, {'id_aluno': 'a20', 'nome': 'Vivaan Castilhos', 'curso': 'ENGFIS', 'tpc1': '15', 'tpc2': '14', 'tpc3': '11', 'tpc4': '12'}, {'id_aluno': 'a21', 'nome': 'Layana Camejo', 'curso': 'ENGFIS', 'tpc1': '17', 'tpc2': '12', 'tpc3': '10', 'tpc4': '20'}, {'id_aluno': 'a22', 'nome': 'Mahdi Menoita', 'curso': 'ENGFIS', 'tpc1': '11', 'tpc2': '16', 'tpc3': '8', 'tpc4': '16'}, {'id_aluno': 'a23', 'nome': 'Yifan Cortinado', 'curso': 'LEI', 'tpc1': '19', 'tpc2': '16', 'tpc3': '8', 'tpc4': '18'}, {'id_aluno': 'a24', 'nome': 'Éder Sodré', 'curso': 'ENGFIS', 'tpc1': '17', 'tpc2': '13', 'tpc3': '14', 'tpc4': '12'}, {'id_aluno': 'a25', 'nome': 'Dhriti Magano', 'curso': 'ENGFIS', 'tpc1': '19', 'tpc2': '11', 'tpc3': '8', 'tpc4': '19'}, {'id_aluno': 'a26', 'nome': 'Steve Devesa', 'curso': 'ENGBIOM', 'tpc1': '10', 'tpc2': '16', 'tpc3': '8', 'tpc4': '13'}, {'id_aluno': 'a27', 'nome': 'Lisandro Mariano Picassinos', 'curso': 'ENGFIS', 'tpc1': '13', 'tpc2': '10', 'tpc3': '16', 'tpc4': '10'}, {'id_aluno': 'a28', 'nome': 'Itiel Quinoy', 'curso': 'LEI', 'tpc1': '18', 'tpc2': '18', 'tpc3': '8', 'tpc4': '9'}, {'id_aluno': 'a29', 'nome': 'Pranika Reimoo', 'curso': 'LEI', 'tpc1': '12', 'tpc2': '16', 'tpc3': '15', 'tpc4': '13'}, {'id_aluno': 'a30', 'nome': 'Manaia Viseu', 'curso': 'ENGFIS', 'tpc1': '8', 'tpc2': '12', 'tpc3': '20', 'tpc4': '11'}, {'id_aluno': 'a31', 'nome': 'Eva Manuel Caio', 'curso': 'ENGFIS', 'tpc1': '12', 'tpc2': '16', 'tpc3': '20', 'tpc4': '16'}, {'id_aluno': 'a32', 'nome': 'Ariane Sofia Foja', 'curso': 'LEI', 'tpc1': '20', 'tpc2': '19', 'tpc3': '13', 'tpc4': '18'}, {'id_aluno': 'a33', 'nome': 'Jaime António Pauseiro', 'curso': 'LCC', 'tpc1': '19', 'tpc2': '13', 'tpc3': '8', 'tpc4': '10'}, {'id_aluno': 'a34', 'nome': 'Tanisha Marzagoo', 'curso': 'ENGBIOM', 'tpc1': '14', 'tpc2': '19', 'tpc3': '13', 'tpc4': '14'}, {'id_aluno': 'a35', 'nome': 'Siyon Anca', 'curso': 'LEI', 'tpc1': '8', 'tpc2': '13', 'tpc3': '19', 'tpc4': '15'}, {'id_aluno': 'a36', 'nome': 'Diana Beatriz Boavista', 'curso': 'LCC', 'tpc1': '19', 'tpc2': '18', 'tpc3': '17', 'tpc4': '12'}, {'id_aluno': 'a37', 'nome': 'Elisiário Saberio', 'curso': 'ENGFIS', 'tpc1': '18', 'tpc2': '18', 'tpc3': '10', 'tpc4': '19'}, {'id_aluno': 'a38', 'nome': 'Maira Brites', 'curso': 'ENGFIS', 'tpc1': '13', 'tpc2': '16', 'tpc3': '15', 'tpc4': '17'}, {'id_aluno': 'a39', 'nome': 'Victória Gabriela Incenso', 'curso': 'LEI', 'tpc1': '17', 'tpc2': '14', 'tpc3': '13', 'tpc4': '8'}, {'id_aluno': 'a40', 'nome': 'Najua Serôdio', 'curso': 'LCC', 'tpc1': '17', 'tpc2': '9', 'tpc3': '16', 'tpc4': '18'}, {'id_aluno': 'a41', 'nome': 'Lachezar Rosas', 'curso': 'ENGBIOM', 'tpc1': '16', 'tpc2': '18', 'tpc3': '18', 'tpc4': '15'}, {'id_aluno': 'a42', 'nome': 'Kattleya Trigueiro', 'curso': 'ENGFIS', 'tpc1': '19', 'tpc2': '16', 'tpc3': '14', 'tpc4': '15'}, {'id_aluno': 'a43', 'nome': 'Tatiana Guiomar Maricoto', 'curso': 'LCC', 'tpc1': '19', 'tpc2': '8', 'tpc3': '15', 'tpc4': '11'}, {'id_aluno': 'a44', 'nome': 'Mélanie Daniela Bugalhão', 'curso': 'LCC', 'tpc1': '17', 'tpc2': '9', 'tpc3': '17', 'tpc4': '18'}, {'id_aluno': 'a45', 'nome': 'Imayame Hespanha', 'curso': 'ENGFIS', 'tpc1': '20', 'tpc2': '17', 'tpc3': '19', 'tpc4': '11'}, {'id_aluno': 'a46', 'nome': 'Yuri Gabriel Baganha', 'curso': 'LCC', 'tpc1': '15', 'tpc2': '18', 'tpc3': '12', 'tpc4': '16'}, {'id_aluno': 'a47', 'nome': 'Moisés João Cornelio', 'curso': 'LEI', 'tpc1': '20', 'tpc2': '16', 'tpc3': '19', 'tpc4': '17'}, {'id_aluno': 'a48', 'nome': 'Nazir Assif Trinta', 'curso': 'LEI', 'tpc1': '14', 'tpc2': '14', 'tpc3': '12', 'tpc4': '8'}, {'id_aluno': 'a49', 'nome': 'Karamjot Arezes', 'curso': 'LEI', 'tpc1': '10', 'tpc2': '9', 'tpc3': '20', 'tpc4': '12'}, {'id_aluno': 'a50', 'nome': 'Rishit Justa', 'curso': 'ENGBIOM', 'tpc1': '9', 'tpc2': '9', 'tpc3': '9', 'tpc4': '12'}, {'id_aluno': 'a51', 'nome': 'Iara de Jesus Gonçalo', 'curso': 'ENGFIS', 'tpc1': '14', 'tpc2': '8', 'tpc3': '12', 'tpc4': '14'}, {'id_aluno': 'a52', 'nome': 'Stepfan Owusu Lercas', 'curso': 'LEI', 'tpc1': '18', 'tpc2': '9', 'tpc3': '16', 'tpc4': '14'}, {'id_aluno': 'a53', 'nome': 'Abner Umbelina', 'curso': 'ENGBIOM', 'tpc1': '20', 'tpc2': '16', 'tpc3': '10', 'tpc4': '13'}, {'id_aluno': 'a54', 'nome': 'Dânia Lucy Montelobo', 'curso': 'LEI', 'tpc1': '18', 'tpc2': '19', 'tpc3': '15', 'tpc4': '11'}, {'id_aluno': 'a55', 'nome': 'Myla Lopez', 'curso': 'ENGFIS', 'tpc1': '9', 'tpc2': '17', 'tpc3': '12', 'tpc4': '20'}, {'id_aluno': 'a56', 'nome': 'Hakeem Brazão', 'curso': 'LEI', 'tpc1': '18', 'tpc2': '18', 'tpc3': '13', 'tpc4': '20'}, {'id_aluno': 'a57', 'nome': 'Quinn Aveiro', 'curso': 'ENGBIOM', 'tpc1': '17', 'tpc2': '16', 'tpc3': '9', 'tpc4': '13'}, {'id_aluno': 'a58', 'nome': 'Etienne Constentino', 'curso': 'ENGBIOM', 'tpc1': '15', 'tpc2': '8', 'tpc3': '9', 'tpc4': '13'}, {'id_aluno': 'a59', 'nome': 'Emanuel Marcos Delfina', 'curso': 'LEI', 'tpc1': '9', 'tpc2': '15', 'tpc3': '8', 'tpc4': '13'}, {'id_aluno': 'a60', 'nome': 'Mariana Catarina Ramalheira', 'curso': 'ENGBIOM', 'tpc1': '17', 'tpc2': '19', 'tpc3': '19', 'tpc4': '11'}, {'id_aluno': 'a61', 'nome': 'Bradley Tabau', 'curso': 'LCC', 'tpc1': '16', 'tpc2': '19', 'tpc3': '16', 'tpc4': '12'}, {'id_aluno': 'a62', 'nome': 'Ahmadou Bamba Calcinha', 'curso': 'LCC', 'tpc1': '13', 'tpc2': '20', 'tpc3': '8', 'tpc4': '16'}, {'id_aluno': 'a63', 'nome': 'Francisco Pedro Derresa', 'curso': 'ENGFIS', 'tpc1': '8', 'tpc2': '12', 'tpc3': '20', 'tpc4': '18'}, {'id_aluno': 'a64', 'nome': 'Gil Miguel Lima', 'curso': 'ENGBIOM', 'tpc1': '16', 'tpc2': '19', 'tpc3': '8', 'tpc4': '14'}, {'id_aluno': 'a65', 'nome': 'Leonor Pedro Carqueijeiro', 'curso': 'ENGBIOM', 'tpc1': '19', 'tpc2': '11', 'tpc3': '17', 'tpc4': '8'}, {'id_aluno': 'a66', 'nome': 'Genrikh Maximovich Vila-Chã', 'curso': 'ENGFIS', 'tpc1': '12', 'tpc2': '15', 'tpc3': '13', 'tpc4': '9'}, {'id_aluno': 'a67', 'nome': 'Mayra Larissa Rolo', 'curso': 'LCC', 'tpc1': '15', 'tpc2': '14', 'tpc3': '17', 'tpc4': '12'}, {'id_aluno': 'a68', 'nome': 'Leandro David Dunhoo', 'curso': 'ENGBIOM', 'tpc1': '15', 'tpc2': '14', 'tpc3': '11', 'tpc4': '15'}, {'id_aluno': 'a69', 'nome': 'Adele Belchior', 'curso': 'ENGBIOM', 'tpc1': '17', 'tpc2': '12', 'tpc3': '20', 'tpc4': '12'}, {'id_aluno': 'a70', 'nome': 'Frantceska Borreca', 'curso': 'ENGFIS', 'tpc1': '18', 'tpc2': '11', 'tpc3': '19', 'tpc4': '8'}, {'id_aluno': 'a71', 'nome': 'Derrick Urias', 'curso': 'ENGFIS', 'tpc1': '11', 'tpc2': '10', 'tpc3': '8', 'tpc4': '14'}, {'id_aluno': 'a72', 'nome': 'Ana Gabriel Quirino', 'curso': 'LCC', 'tpc1': '10', 'tpc2': '17', 'tpc3': '8', 'tpc4': '19'}, {'id_aluno': 'a73', 'nome': 'Carolina Antoo', 'curso': 'ENGBIOM', 'tpc1': '16', 'tpc2': '19', 'tpc3': '20', 'tpc4': '10'}, {'id_aluno': 'a74', 'nome': 'Vânia Sofia Porfirio', 'curso': 'ENGBIOM', 'tpc1': '18', 'tpc2': '19', 'tpc3': '18', 'tpc4': '15'}, {'id_aluno': 'a75', 'nome': 'Dárcio Wosvaldo Tudela', 'curso': 'LEI', 'tpc1': '8', 'tpc2': '18', 'tpc3': '9', 'tpc4': '18'}, {'id_aluno': 'a76', 'nome': 'Zhara Couxão', 'curso': 'ENGFIS', 'tpc1': '16', 'tpc2': '10', 'tpc3': '14', 'tpc4': '12'}, {'id_aluno': 'a77', 'nome': 'Tomé Ferrito', 'curso': 'LCC', 'tpc1': '14', 'tpc2': '10', 'tpc3': '15', 'tpc4': '19'}, {'id_aluno': 'a78', 'nome': 'Iasmin Paloma Chaveiro', 'curso': 'LCC', 'tpc1': '8', 'tpc2': '15', 'tpc3': '19', 'tpc4': '9'}, {'id_aluno': 'a79', 'nome': 'Sadagi Cruto', 'curso': 'ENGBIOM', 'tpc1': '13', 'tpc2': '18', 'tpc3': '14', 'tpc4': '18'}, {'id_aluno': 'a80', 'nome': 'Maria Carolina Josué', 'curso': 'ENGFIS', 'tpc1': '17', 'tpc2': '20', 'tpc3': '17', 'tpc4': '18'}, {'id_aluno': 'a81', 'nome': 'Quaresma Lancastre', 'curso': 'ENGBIOM', 'tpc1': '17', 'tpc2': '9', 'tpc3': '16', 'tpc4': '19'}, {'id_aluno': 'a82', 'nome': 'Evaldir Gervasio', 'curso': 'ENGFIS', 'tpc1': '16', 'tpc2': '19', 'tpc3': '15', 'tpc4': '8'}, {'id_aluno': 'a83', 'nome': 'Dolorinda Adolfo', 'curso': 'ENGFIS', 'tpc1': '11', 'tpc2': '20', 'tpc3': '16', 'tpc4': '8'}, {'id_aluno': 'a84', 'nome': 'Laudário Frasão', 'curso': 'LCC', 'tpc1': '20', 'tpc2': '19', 'tpc3': '10', 'tpc4': '19'}, {'id_aluno': 'a85', 'nome': 'Rómula Jeronimo', 'curso': 'ENGFIS', 'tpc1': '10', 'tpc2': '13', 'tpc3': '12', 'tpc4': '11'}, {'id_aluno': 'a86', 'nome': 'Clésio Rodeiro', 'curso': 'LCC', 'tpc1': '9', 'tpc2': '13', 'tpc3': '12', 'tpc4': '18'}, {'id_aluno': 'a87', 'nome': 'Feliciano José Avis', 'curso': 'ENGFIS', 'tpc1': '9', 'tpc2': '11', 'tpc3': '10', 'tpc4': '9'}, {'id_aluno': 'a88', 'nome': 'Afonso Adriano Marca', 'curso': 'ENGBIOM', 'tpc1': '8', 'tpc2': '16', 'tpc3': '12', 'tpc4': '15'}, {'id_aluno': 'a89', 'nome': 'Victória Miguel Rosete', 'curso': 'ENGFIS', 'tpc1': '8', 'tpc2': '13', 'tpc3': '13', 'tpc4': '18'}, {'id_aluno': 'a90', 'nome': 'Tome Teroso', 'curso': 'ENGFIS', 'tpc1': '9', 'tpc2': '9', 'tpc3': '10', 'tpc4': '17'}, {'id_aluno': 'a91', 'nome': 'Constança Filipa Melado', 'curso': 'LEI', 'tpc1': '10', 'tpc2': '12', 'tpc3': '8', 'tpc4': '20'}, {'id_aluno': 'a92', 'nome': 'Madalena Jesus Alfaiate', 'curso': 'LEI', 'tpc1': '17', 'tpc2': '14', 'tpc3': '9', 'tpc4': '17'}, {'id_aluno': 'a93', 'nome': 'Bivhan Reimbau', 'curso': 'LCC', 'tpc1': '17', 'tpc2': '11', 'tpc3': '8', 'tpc4': '12'}, {'id_aluno': 'a94', 'nome': 'Viviana Sofia Gaspar', 'curso': 'ENGBIOM', 'tpc1': '16', 'tpc2': '16', 'tpc3': '20', 'tpc4': '14'}, {'id_aluno': 'a95', 'nome': 'Íris Soraia Chiote', 'curso': 'LEI', 'tpc1': '11', 'tpc2': '11', 'tpc3': '17', 'tpc4': '16'}, {'id_aluno': 'a96', 'nome': 'Anaïs Sintra', 'curso': 'LCC', 'tpc1': '19', 'tpc2': '19', 'tpc3': '12', 'tpc4': '9'}, {'id_aluno': 'a97', 'nome': 'Salvador Banaca', 'curso': 'LCC', 'tpc1': '12', 'tpc2': '9', 'tpc3': '20', 'tpc4': '12'}, {'id_aluno': 'a98', 'nome': 'Guilherme Matias Almeirão', 'curso': 'ENGFIS', 'tpc1': '14', 'tpc2': '9', 'tpc3': '12', 'tpc4': '11'}, {'id_aluno': 'a99', 'nome': 'Xavier Luís Bulha', 'curso': 'ENGFIS', 'tpc1': '17', 'tpc2': '13', 'tpc3': '8', 'tpc4': '10'}, {'id_aluno': 'a100', 'nome': 'Tude Searas', 'curso': 'LEI', 'tpc1': '20', 'tpc2': '17', 'tpc3': '8', 'tpc4': '14'}]\n"
     ]
    }
   ],
   "source": [
    "import csv\n",
    "\n",
    "def LerInformacao(filename):\n",
    "    header = []\n",
    "    lista_alunos = []\n",
    "    \n",
    "    with open (filename , 'r' , encoding= \"utf-8\") as file:\n",
    "        csvreader = csv.DictReader(file)\n",
    "        \n",
    "        for aluno in csvreader:\n",
    "            lista_alunos.append(aluno)       \n",
    "    return lista_alunos\n",
    "\n",
    "\n",
    "lista_alunos = LerInformacao('alunos.csv')\n",
    "print(lista_alunos)\n",
    "\n"
   ]
  },
  {
   "cell_type": "code",
   "execution_count": null,
   "metadata": {},
   "outputs": [
    {
     "data": {
      "text/plain": [
       "{'LEI': 23, 'ENGFIS': 32, 'LCC': 20, 'ENGBIOM': 25}"
      ]
     },
     "execution_count": 16,
     "metadata": {},
     "output_type": "execute_result"
    }
   ],
   "source": [
    "def num_alunos_curso(lista_alunos):\n",
    "    \n",
    "    dict_cursos = {}\n",
    "    \n",
    "    for aluno in lista_alunos:\n",
    "        curso = aluno['curso']\n",
    "        \n",
    "        if dict_cursos.get(curso) == None:\n",
    "            dict_cursos[curso] = 1\n",
    "\n",
    "        else:\n",
    "            dict_cursos[curso] = dict_cursos[curso] + 1\n",
    "    \n",
    "    return dict_cursos\n",
    "\n",
    "num_alunos_curso(lista_alunos)          "
   ]
  },
  {
   "cell_type": "code",
   "execution_count": null,
   "metadata": {},
   "outputs": [],
   "source": [
    "def media_notas(lista_alunos):\n",
    "    \n",
    "    for aluno in lista_alunos:\n",
    "        \n",
    "        media = (int(aluno['tpc1']) + int(aluno['tpc2']) + int(aluno['tpc3']) + int(aluno['tpc4'])) / 4\n",
    "        aluno['media'] = media    \n",
    "        \n",
    "    return lista_alunos\n",
    "\n",
    "#media_notas(lista_alunos)"
   ]
  },
  {
   "cell_type": "code",
   "execution_count": null,
   "metadata": {},
   "outputs": [],
   "source": [
    "def escaloes(lista_alunos):\n",
    "    \n",
    "    for aluno in lista_alunos:\n",
    "        if aluno.get('media') != None:\n",
    "            \n",
    "            if 1 <= aluno['media'] and aluno['media'] < 5:\n",
    "                aluno['escalao'] = 'E'\n",
    "            elif 5 <= aluno['media'] and aluno['media']< 9:\n",
    "                aluno['escalao'] = 'D'\n",
    "            elif 9 <= aluno['media'] and aluno['media']< 13:\n",
    "                aluno['escalao'] = 'C'\n",
    "            elif 13 <= aluno['media'] and aluno['media']< 17:\n",
    "                aluno['escalao'] = 'B'\n",
    "            elif 17 <= aluno['media'] and aluno['media']<= 20:\n",
    "                aluno['escalao'] = 'A'\n",
    "                \n",
    "    return lista_alunos\n",
    "\n",
    "#escaloes(lista_alunos)\n"
   ]
  },
  {
   "cell_type": "code",
   "execution_count": null,
   "metadata": {},
   "outputs": [
    {
     "data": {
      "text/plain": [
       "{'C': 27, 'B': 67, 'A': 6}"
      ]
     },
     "execution_count": 19,
     "metadata": {},
     "output_type": "execute_result"
    }
   ],
   "source": [
    "def num_alunos_escalao(lista_alunos):\n",
    "    dict_escaloes = {}\n",
    "    \n",
    "    for aluno in lista_alunos:\n",
    "        if aluno.get('escalao') != None:\n",
    "            \n",
    "            escalao = aluno['escalao']\n",
    "            \n",
    "            if dict_escaloes.get(escalao) == None:\n",
    "                dict_escaloes[escalao] = 1\n",
    "\n",
    "            else:\n",
    "                dict_escaloes[escalao] = dict_escaloes[escalao] + 1\n",
    "    \n",
    "    return dict_escaloes \n",
    "\n",
    "num_alunos_escalao(lista_alunos)\n",
    "    "
   ]
  },
  {
   "cell_type": "code",
   "execution_count": null,
   "metadata": {},
   "outputs": [
    {
     "data": {
      "image/png": "[encoded data removed]",
      "text/plain": [
       "<Figure size 640x480 with 1 Axes>"
      ]
     },
     "metadata": {},
     "output_type": "display_data"
    }
   ],
   "source": [
    "import matplotlib.pyplot as plt\n",
    "\n",
    "def grafico(distribuicao,abcissas,ordenadas):\n",
    "    x = distribuicao.keys()\n",
    "    y = distribuicao.values()\n",
    "    \n",
    "    plt.bar(x, y)\n",
    "    \n",
    "    plt.xlabel(abcissas)\n",
    "\n",
    "    plt.ylabel(ordenadas)\n",
    "    \n",
    "    plt.show()\n",
    "    \n",
    "dist_escaloes = num_alunos_escalao(lista_alunos)\n",
    "dist_cursos = num_alunos_curso(lista_alunos)  \n",
    "grafico (dist_escaloes,\"escalão\",\"número de alunos\") \n"
   ]
  },
  {
   "cell_type": "code",
   "execution_count": null,
   "metadata": {},
   "outputs": [
    {
     "name": "stdout",
     "output_type": "stream",
     "text": [
      "| escalao              | num_aluno            |\n",
      "| C                    | 27                   |\n",
      "| B                    | 67                   |\n",
      "| A                    | 6                    |\n"
     ]
    }
   ],
   "source": [
    "def imprime_tabela(distribuicao,abcissas,ordenadas):\n",
    "    print(f\"| {abcissas:20} | {ordenadas:20} |\")\n",
    "    \n",
    "    for k,v in distribuicao.items():\n",
    "        print(f\"| {k[:20]:20} | {str(v)[:20]:20} |\") \n",
    "        \n",
    "imprime_tabela(dist_escaloes,\"escalao\",\"num_aluno\")"
   ]
  },
  {
   "cell_type": "code",
   "execution_count": null,
   "metadata": {},
   "outputs": [],
   "source": [
    "def menu():\n",
    "    print('---------MENU---------')\n",
    "    print('1- nº de alunos por curso')\n",
    "    print('2- acrescentar média')\n",
    "    print('3- acrescentar escalão de acordo com a média')\n",
    "    print('4- gráfico de distibuições')\n",
    "    print('5- tabela de distribuições')\n",
    "    print('6-SAIR', flush=True)\n",
    "    opcao = int(input('escolha a opção'))\n",
    "    return"
   ]
  },
  {
   "cell_type": "code",
   "execution_count": null,
   "metadata": {},
   "outputs": [
    {
     "name": "stdout",
     "output_type": "stream",
     "text": [
      "---------MENU---------\n",
      "1- número de alunos por curso\n",
      "2- acrescentar média\n",
      "3- acrescentar escalão de acordo com a média\n",
      "4- gráfico de distibuições\n",
      "5- tabela de distribuições\n",
      "6-SAIR\n",
      "[{'id_aluno': 'a1', 'nome': 'Aysha Melanie Gilberto', 'curso': 'LEI', 'tpc1': '12', 'tpc2': '8', 'tpc3': '19', 'tpc4': '8', 'media': 11.75}, {'id_aluno': 'a2', 'nome': 'Igor André Cantanhede', 'curso': 'ENGFIS', 'tpc1': '12', 'tpc2': '16', 'tpc3': '18', 'tpc4': '20', 'media': 16.5}, {'id_aluno': 'a3', 'nome': 'Laurénio Narciso', 'curso': 'ENGFIS', 'tpc1': '8', 'tpc2': '14', 'tpc3': '15', 'tpc4': '14', 'media': 12.75}, {'id_aluno': 'a4', 'nome': 'Jasnoor Casegas', 'curso': 'LCC', 'tpc1': '14', 'tpc2': '20', 'tpc3': '17', 'tpc4': '11', 'media': 15.5}, {'id_aluno': 'a5', 'nome': 'Tawseef Rebouças', 'curso': 'ENGBIOM', 'tpc1': '13', 'tpc2': '14', 'tpc3': '13', 'tpc4': '17', 'media': 14.25}, {'id_aluno': 'a6', 'nome': 'Eryk Clementino', 'curso': 'LEI', 'tpc1': '10', 'tpc2': '19', 'tpc3': '11', 'tpc4': '14', 'media': 13.5}, {'id_aluno': 'a7', 'nome': 'Ianna Noivo', 'curso': 'ENGBIOM', 'tpc1': '15', 'tpc2': '15', 'tpc3': '17', 'tpc4': '16', 'media': 15.75}, {'id_aluno': 'a8', 'nome': 'Ayla Thaissa Reina', 'curso': 'ENGBIOM', 'tpc1': '12', 'tpc2': '8', 'tpc3': '8', 'tpc4': '18', 'media': 11.5}, {'id_aluno': 'a9', 'nome': 'Cássia Viviane Coitã', 'curso': 'ENGFIS', 'tpc1': '19', 'tpc2': '9', 'tpc3': '14', 'tpc4': '10', 'media': 13.0}, {'id_aluno': 'a10', 'nome': 'Koby Vindima', 'curso': 'LEI', 'tpc1': '9', 'tpc2': '14', 'tpc3': '20', 'tpc4': '13', 'media': 14.0}, {'id_aluno': 'a11', 'nome': 'Gustavo Martim Hernandez', 'curso': 'ENGBIOM', 'tpc1': '11', 'tpc2': '8', 'tpc3': '14', 'tpc4': '11', 'media': 11.0}, {'id_aluno': 'a12', 'nome': 'Siddarta Beiriz', 'curso': 'LEI', 'tpc1': '17', 'tpc2': '10', 'tpc3': '16', 'tpc4': '16', 'media': 14.75}, {'id_aluno': 'a13', 'nome': 'Daniela Patrícia Montes', 'curso': 'ENGBIOM', 'tpc1': '15', 'tpc2': '15', 'tpc3': '18', 'tpc4': '19', 'media': 16.75}, {'id_aluno': 'a14', 'nome': 'Kaylla Pessego', 'curso': 'LCC', 'tpc1': '10', 'tpc2': '14', 'tpc3': '17', 'tpc4': '15', 'media': 14.0}, {'id_aluno': 'a15', 'nome': 'Bianca Cristina Primitivo', 'curso': 'ENGBIOM', 'tpc1': '16', 'tpc2': '9', 'tpc3': '18', 'tpc4': '10', 'media': 13.25}, {'id_aluno': 'a16', 'nome': 'Magna Galhardo', 'curso': 'ENGFIS', 'tpc1': '20', 'tpc2': '18', 'tpc3': '9', 'tpc4': '14', 'media': 15.25}, {'id_aluno': 'a17', 'nome': 'Grace Isabel Patriarca', 'curso': 'LCC', 'tpc1': '19', 'tpc2': '13', 'tpc3': '9', 'tpc4': '10', 'media': 12.75}, {'id_aluno': 'a18', 'nome': 'Saubhagya Buco', 'curso': 'LEI', 'tpc1': '18', 'tpc2': '18', 'tpc3': '17', 'tpc4': '8', 'media': 15.25}, {'id_aluno': 'a19', 'nome': 'Ivo Vicente Boisa', 'curso': 'ENGBIOM', 'tpc1': '14', 'tpc2': '10', 'tpc3': '18', 'tpc4': '13', 'media': 13.75}, {'id_aluno': 'a20', 'nome': 'Vivaan Castilhos', 'curso': 'ENGFIS', 'tpc1': '15', 'tpc2': '14', 'tpc3': '11', 'tpc4': '12', 'media': 13.0}, {'id_aluno': 'a21', 'nome': 'Layana Camejo', 'curso': 'ENGFIS', 'tpc1': '17', 'tpc2': '12', 'tpc3': '10', 'tpc4': '20', 'media': 14.75}, {'id_aluno': 'a22', 'nome': 'Mahdi Menoita', 'curso': 'ENGFIS', 'tpc1': '11', 'tpc2': '16', 'tpc3': '8', 'tpc4': '16', 'media': 12.75}, {'id_aluno': 'a23', 'nome': 'Yifan Cortinado', 'curso': 'LEI', 'tpc1': '19', 'tpc2': '16', 'tpc3': '8', 'tpc4': '18', 'media': 15.25}, {'id_aluno': 'a24', 'nome': 'Éder Sodré', 'curso': 'ENGFIS', 'tpc1': '17', 'tpc2': '13', 'tpc3': '14', 'tpc4': '12', 'media': 14.0}, {'id_aluno': 'a25', 'nome': 'Dhriti Magano', 'curso': 'ENGFIS', 'tpc1': '19', 'tpc2': '11', 'tpc3': '8', 'tpc4': '19', 'media': 14.25}, {'id_aluno': 'a26', 'nome': 'Steve Devesa', 'curso': 'ENGBIOM', 'tpc1': '10', 'tpc2': '16', 'tpc3': '8', 'tpc4': '13', 'media': 11.75}, {'id_aluno': 'a27', 'nome': 'Lisandro Mariano Picassinos', 'curso': 'ENGFIS', 'tpc1': '13', 'tpc2': '10', 'tpc3': '16', 'tpc4': '10', 'media': 12.25}, {'id_aluno': 'a28', 'nome': 'Itiel Quinoy', 'curso': 'LEI', 'tpc1': '18', 'tpc2': '18', 'tpc3': '8', 'tpc4': '9', 'media': 13.25}, {'id_aluno': 'a29', 'nome': 'Pranika Reimoo', 'curso': 'LEI', 'tpc1': '12', 'tpc2': '16', 'tpc3': '15', 'tpc4': '13', 'media': 14.0}, {'id_aluno': 'a30', 'nome': 'Manaia Viseu', 'curso': 'ENGFIS', 'tpc1': '8', 'tpc2': '12', 'tpc3': '20', 'tpc4': '11', 'media': 12.75}, {'id_aluno': 'a31', 'nome': 'Eva Manuel Caio', 'curso': 'ENGFIS', 'tpc1': '12', 'tpc2': '16', 'tpc3': '20', 'tpc4': '16', 'media': 16.0}, {'id_aluno': 'a32', 'nome': 'Ariane Sofia Foja', 'curso': 'LEI', 'tpc1': '20', 'tpc2': '19', 'tpc3': '13', 'tpc4': '18', 'media': 17.5}, {'id_aluno': 'a33', 'nome': 'Jaime António Pauseiro', 'curso': 'LCC', 'tpc1': '19', 'tpc2': '13', 'tpc3': '8', 'tpc4': '10', 'media': 12.5}, {'id_aluno': 'a34', 'nome': 'Tanisha Marzagoo', 'curso': 'ENGBIOM', 'tpc1': '14', 'tpc2': '19', 'tpc3': '13', 'tpc4': '14', 'media': 15.0}, {'id_aluno': 'a35', 'nome': 'Siyon Anca', 'curso': 'LEI', 'tpc1': '8', 'tpc2': '13', 'tpc3': '19', 'tpc4': '15', 'media': 13.75}, {'id_aluno': 'a36', 'nome': 'Diana Beatriz Boavista', 'curso': 'LCC', 'tpc1': '19', 'tpc2': '18', 'tpc3': '17', 'tpc4': '12', 'media': 16.5}, {'id_aluno': 'a37', 'nome': 'Elisiário Saberio', 'curso': 'ENGFIS', 'tpc1': '18', 'tpc2': '18', 'tpc3': '10', 'tpc4': '19', 'media': 16.25}, {'id_aluno': 'a38', 'nome': 'Maira Brites', 'curso': 'ENGFIS', 'tpc1': '13', 'tpc2': '16', 'tpc3': '15', 'tpc4': '17', 'media': 15.25}, {'id_aluno': 'a39', 'nome': 'Victória Gabriela Incenso', 'curso': 'LEI', 'tpc1': '17', 'tpc2': '14', 'tpc3': '13', 'tpc4': '8', 'media': 13.0}, {'id_aluno': 'a40', 'nome': 'Najua Serôdio', 'curso': 'LCC', 'tpc1': '17', 'tpc2': '9', 'tpc3': '16', 'tpc4': '18', 'media': 15.0}, {'id_aluno': 'a41', 'nome': 'Lachezar Rosas', 'curso': 'ENGBIOM', 'tpc1': '16', 'tpc2': '18', 'tpc3': '18', 'tpc4': '15', 'media': 16.75}, {'id_aluno': 'a42', 'nome': 'Kattleya Trigueiro', 'curso': 'ENGFIS', 'tpc1': '19', 'tpc2': '16', 'tpc3': '14', 'tpc4': '15', 'media': 16.0}, {'id_aluno': 'a43', 'nome': 'Tatiana Guiomar Maricoto', 'curso': 'LCC', 'tpc1': '19', 'tpc2': '8', 'tpc3': '15', 'tpc4': '11', 'media': 13.25}, {'id_aluno': 'a44', 'nome': 'Mélanie Daniela Bugalhão', 'curso': 'LCC', 'tpc1': '17', 'tpc2': '9', 'tpc3': '17', 'tpc4': '18', 'media': 15.25}, {'id_aluno': 'a45', 'nome': 'Imayame Hespanha', 'curso': 'ENGFIS', 'tpc1': '20', 'tpc2': '17', 'tpc3': '19', 'tpc4': '11', 'media': 16.75}, {'id_aluno': 'a46', 'nome': 'Yuri Gabriel Baganha', 'curso': 'LCC', 'tpc1': '15', 'tpc2': '18', 'tpc3': '12', 'tpc4': '16', 'media': 15.25}, {'id_aluno': 'a47', 'nome': 'Moisés João Cornelio', 'curso': 'LEI', 'tpc1': '20', 'tpc2': '16', 'tpc3': '19', 'tpc4': '17', 'media': 18.0}, {'id_aluno': 'a48', 'nome': 'Nazir Assif Trinta', 'curso': 'LEI', 'tpc1': '14', 'tpc2': '14', 'tpc3': '12', 'tpc4': '8', 'media': 12.0}, {'id_aluno': 'a49', 'nome': 'Karamjot Arezes', 'curso': 'LEI', 'tpc1': '10', 'tpc2': '9', 'tpc3': '20', 'tpc4': '12', 'media': 12.75}, {'id_aluno': 'a50', 'nome': 'Rishit Justa', 'curso': 'ENGBIOM', 'tpc1': '9', 'tpc2': '9', 'tpc3': '9', 'tpc4': '12', 'media': 9.75}, {'id_aluno': 'a51', 'nome': 'Iara de Jesus Gonçalo', 'curso': 'ENGFIS', 'tpc1': '14', 'tpc2': '8', 'tpc3': '12', 'tpc4': '14', 'media': 12.0}, {'id_aluno': 'a52', 'nome': 'Stepfan Owusu Lercas', 'curso': 'LEI', 'tpc1': '18', 'tpc2': '9', 'tpc3': '16', 'tpc4': '14', 'media': 14.25}, {'id_aluno': 'a53', 'nome': 'Abner Umbelina', 'curso': 'ENGBIOM', 'tpc1': '20', 'tpc2': '16', 'tpc3': '10', 'tpc4': '13', 'media': 14.75}, {'id_aluno': 'a54', 'nome': 'Dânia Lucy Montelobo', 'curso': 'LEI', 'tpc1': '18', 'tpc2': '19', 'tpc3': '15', 'tpc4': '11', 'media': 15.75}, {'id_aluno': 'a55', 'nome': 'Myla Lopez', 'curso': 'ENGFIS', 'tpc1': '9', 'tpc2': '17', 'tpc3': '12', 'tpc4': '20', 'media': 14.5}, {'id_aluno': 'a56', 'nome': 'Hakeem Brazão', 'curso': 'LEI', 'tpc1': '18', 'tpc2': '18', 'tpc3': '13', 'tpc4': '20', 'media': 17.25}, {'id_aluno': 'a57', 'nome': 'Quinn Aveiro', 'curso': 'ENGBIOM', 'tpc1': '17', 'tpc2': '16', 'tpc3': '9', 'tpc4': '13', 'media': 13.75}, {'id_aluno': 'a58', 'nome': 'Etienne Constentino', 'curso': 'ENGBIOM', 'tpc1': '15', 'tpc2': '8', 'tpc3': '9', 'tpc4': '13', 'media': 11.25}, {'id_aluno': 'a59', 'nome': 'Emanuel Marcos Delfina', 'curso': 'LEI', 'tpc1': '9', 'tpc2': '15', 'tpc3': '8', 'tpc4': '13', 'media': 11.25}, {'id_aluno': 'a60', 'nome': 'Mariana Catarina Ramalheira', 'curso': 'ENGBIOM', 'tpc1': '17', 'tpc2': '19', 'tpc3': '19', 'tpc4': '11', 'media': 16.5}, {'id_aluno': 'a61', 'nome': 'Bradley Tabau', 'curso': 'LCC', 'tpc1': '16', 'tpc2': '19', 'tpc3': '16', 'tpc4': '12', 'media': 15.75}, {'id_aluno': 'a62', 'nome': 'Ahmadou Bamba Calcinha', 'curso': 'LCC', 'tpc1': '13', 'tpc2': '20', 'tpc3': '8', 'tpc4': '16', 'media': 14.25}, {'id_aluno': 'a63', 'nome': 'Francisco Pedro Derresa', 'curso': 'ENGFIS', 'tpc1': '8', 'tpc2': '12', 'tpc3': '20', 'tpc4': '18', 'media': 14.5}, {'id_aluno': 'a64', 'nome': 'Gil Miguel Lima', 'curso': 'ENGBIOM', 'tpc1': '16', 'tpc2': '19', 'tpc3': '8', 'tpc4': '14', 'media': 14.25}, {'id_aluno': 'a65', 'nome': 'Leonor Pedro Carqueijeiro', 'curso': 'ENGBIOM', 'tpc1': '19', 'tpc2': '11', 'tpc3': '17', 'tpc4': '8', 'media': 13.75}, {'id_aluno': 'a66', 'nome': 'Genrikh Maximovich Vila-Chã', 'curso': 'ENGFIS', 'tpc1': '12', 'tpc2': '15', 'tpc3': '13', 'tpc4': '9', 'media': 12.25}, {'id_aluno': 'a67', 'nome': 'Mayra Larissa Rolo', 'curso': 'LCC', 'tpc1': '15', 'tpc2': '14', 'tpc3': '17', 'tpc4': '12', 'media': 14.5}, {'id_aluno': 'a68', 'nome': 'Leandro David Dunhoo', 'curso': 'ENGBIOM', 'tpc1': '15', 'tpc2': '14', 'tpc3': '11', 'tpc4': '15', 'media': 13.75}, {'id_aluno': 'a69', 'nome': 'Adele Belchior', 'curso': 'ENGBIOM', 'tpc1': '17', 'tpc2': '12', 'tpc3': '20', 'tpc4': '12', 'media': 15.25}, {'id_aluno': 'a70', 'nome': 'Frantceska Borreca', 'curso': 'ENGFIS', 'tpc1': '18', 'tpc2': '11', 'tpc3': '19', 'tpc4': '8', 'media': 14.0}, {'id_aluno': 'a71', 'nome': 'Derrick Urias', 'curso': 'ENGFIS', 'tpc1': '11', 'tpc2': '10', 'tpc3': '8', 'tpc4': '14', 'media': 10.75}, {'id_aluno': 'a72', 'nome': 'Ana Gabriel Quirino', 'curso': 'LCC', 'tpc1': '10', 'tpc2': '17', 'tpc3': '8', 'tpc4': '19', 'media': 13.5}, {'id_aluno': 'a73', 'nome': 'Carolina Antoo', 'curso': 'ENGBIOM', 'tpc1': '16', 'tpc2': '19', 'tpc3': '20', 'tpc4': '10', 'media': 16.25}, {'id_aluno': 'a74', 'nome': 'Vânia Sofia Porfirio', 'curso': 'ENGBIOM', 'tpc1': '18', 'tpc2': '19', 'tpc3': '18', 'tpc4': '15', 'media': 17.5}, {'id_aluno': 'a75', 'nome': 'Dárcio Wosvaldo Tudela', 'curso': 'LEI', 'tpc1': '8', 'tpc2': '18', 'tpc3': '9', 'tpc4': '18', 'media': 13.25}, {'id_aluno': 'a76', 'nome': 'Zhara Couxão', 'curso': 'ENGFIS', 'tpc1': '16', 'tpc2': '10', 'tpc3': '14', 'tpc4': '12', 'media': 13.0}, {'id_aluno': 'a77', 'nome': 'Tomé Ferrito', 'curso': 'LCC', 'tpc1': '14', 'tpc2': '10', 'tpc3': '15', 'tpc4': '19', 'media': 14.5}, {'id_aluno': 'a78', 'nome': 'Iasmin Paloma Chaveiro', 'curso': 'LCC', 'tpc1': '8', 'tpc2': '15', 'tpc3': '19', 'tpc4': '9', 'media': 12.75}, {'id_aluno': 'a79', 'nome': 'Sadagi Cruto', 'curso': 'ENGBIOM', 'tpc1': '13', 'tpc2': '18', 'tpc3': '14', 'tpc4': '18', 'media': 15.75}, {'id_aluno': 'a80', 'nome': 'Maria Carolina Josué', 'curso': 'ENGFIS', 'tpc1': '17', 'tpc2': '20', 'tpc3': '17', 'tpc4': '18', 'media': 18.0}, {'id_aluno': 'a81', 'nome': 'Quaresma Lancastre', 'curso': 'ENGBIOM', 'tpc1': '17', 'tpc2': '9', 'tpc3': '16', 'tpc4': '19', 'media': 15.25}, {'id_aluno': 'a82', 'nome': 'Evaldir Gervasio', 'curso': 'ENGFIS', 'tpc1': '16', 'tpc2': '19', 'tpc3': '15', 'tpc4': '8', 'media': 14.5}, {'id_aluno': 'a83', 'nome': 'Dolorinda Adolfo', 'curso': 'ENGFIS', 'tpc1': '11', 'tpc2': '20', 'tpc3': '16', 'tpc4': '8', 'media': 13.75}, {'id_aluno': 'a84', 'nome': 'Laudário Frasão', 'curso': 'LCC', 'tpc1': '20', 'tpc2': '19', 'tpc3': '10', 'tpc4': '19', 'media': 17.0}, {'id_aluno': 'a85', 'nome': 'Rómula Jeronimo', 'curso': 'ENGFIS', 'tpc1': '10', 'tpc2': '13', 'tpc3': '12', 'tpc4': '11', 'media': 11.5}, {'id_aluno': 'a86', 'nome': 'Clésio Rodeiro', 'curso': 'LCC', 'tpc1': '9', 'tpc2': '13', 'tpc3': '12', 'tpc4': '18', 'media': 13.0}, {'id_aluno': 'a87', 'nome': 'Feliciano José Avis', 'curso': 'ENGFIS', 'tpc1': '9', 'tpc2': '11', 'tpc3': '10', 'tpc4': '9', 'media': 9.75}, {'id_aluno': 'a88', 'nome': 'Afonso Adriano Marca', 'curso': 'ENGBIOM', 'tpc1': '8', 'tpc2': '16', 'tpc3': '12', 'tpc4': '15', 'media': 12.75}, {'id_aluno': 'a89', 'nome': 'Victória Miguel Rosete', 'curso': 'ENGFIS', 'tpc1': '8', 'tpc2': '13', 'tpc3': '13', 'tpc4': '18', 'media': 13.0}, {'id_aluno': 'a90', 'nome': 'Tome Teroso', 'curso': 'ENGFIS', 'tpc1': '9', 'tpc2': '9', 'tpc3': '10', 'tpc4': '17', 'media': 11.25}, {'id_aluno': 'a91', 'nome': 'Constança Filipa Melado', 'curso': 'LEI', 'tpc1': '10', 'tpc2': '12', 'tpc3': '8', 'tpc4': '20', 'media': 12.5}, {'id_aluno': 'a92', 'nome': 'Madalena Jesus Alfaiate', 'curso': 'LEI', 'tpc1': '17', 'tpc2': '14', 'tpc3': '9', 'tpc4': '17', 'media': 14.25}, {'id_aluno': 'a93', 'nome': 'Bivhan Reimbau', 'curso': 'LCC', 'tpc1': '17', 'tpc2': '11', 'tpc3': '8', 'tpc4': '12', 'media': 12.0}, {'id_aluno': 'a94', 'nome': 'Viviana Sofia Gaspar', 'curso': 'ENGBIOM', 'tpc1': '16', 'tpc2': '16', 'tpc3': '20', 'tpc4': '14', 'media': 16.5}, {'id_aluno': 'a95', 'nome': 'Íris Soraia Chiote', 'curso': 'LEI', 'tpc1': '11', 'tpc2': '11', 'tpc3': '17', 'tpc4': '16', 'media': 13.75}, {'id_aluno': 'a96', 'nome': 'Anaïs Sintra', 'curso': 'LCC', 'tpc1': '19', 'tpc2': '19', 'tpc3': '12', 'tpc4': '9', 'media': 14.75}, {'id_aluno': 'a97', 'nome': 'Salvador Banaca', 'curso': 'LCC', 'tpc1': '12', 'tpc2': '9', 'tpc3': '20', 'tpc4': '12', 'media': 13.25}, {'id_aluno': 'a98', 'nome': 'Guilherme Matias Almeirão', 'curso': 'ENGFIS', 'tpc1': '14', 'tpc2': '9', 'tpc3': '12', 'tpc4': '11', 'media': 11.5}, {'id_aluno': 'a99', 'nome': 'Xavier Luís Bulha', 'curso': 'ENGFIS', 'tpc1': '17', 'tpc2': '13', 'tpc3': '8', 'tpc4': '10', 'media': 12.0}, {'id_aluno': 'a100', 'nome': 'Tude Searas', 'curso': 'LEI', 'tpc1': '20', 'tpc2': '17', 'tpc3': '8', 'tpc4': '14', 'media': 14.75}]\n",
      "---------MENU---------\n",
      "1- número de alunos por curso\n",
      "2- acrescentar média\n",
      "3- acrescentar escalão de acordo com a média\n",
      "4- gráfico de distibuições\n",
      "5- tabela de distribuições\n",
      "6-SAIR\n"
     ]
    }
   ],
   "source": [
    "print('---------MENU---------')\n",
    "print('1- nº de alunos por curso')\n",
    "print('2- acrescentar média')\n",
    "print('3- acrescentar escalão de acordo com a média')\n",
    "print('4- gráfico de distibuições')\n",
    "print('5- tabela de distribuições')\n",
    "print('6-SAIR', flush=True)\n",
    "\n",
    "opcao = int(input('escolha a opção'))\n",
    "\n",
    "lista_alunos = LerInformacao('alunos.csv')\n",
    "\n",
    "if opcao == 1:\n",
    "    print(num_alunos_curso(lista_alunos))\n",
    "    menu()\n",
    "    \n",
    "if opcao == 2:\n",
    "    print(media_notas(lista_alunos))\n",
    "    menu()\n",
    "    \n",
    "if opcao == 3:\n",
    "    print(escaloes(lista_alunos))    \n",
    "    menu()\n",
    "    \n",
    "if opcao == 4:\n",
    "    print('ESCOLHA UMA DISTRIBUIÇÃO:')\n",
    "    print('1- alunos por curso')\n",
    "    print('2- alunos por escalão')\n",
    "    distribuicao_escolhida= int(input('escolha a distribuição a ser representada'))\n",
    "    \n",
    "    if distribuicao_escolhida == 1:\n",
    "        dist_cursos = num_alunos_curso(lista_alunos)  \n",
    "        grafico (dist_cursos,\"curso\",\"número de alunos\")\n",
    "        menu()\n",
    "        \n",
    "    if distribuicao_escolhida == 2:\n",
    "        dist_escaloes = num_alunos_escalao(lista_alunos)  \n",
    "        grafico (dist_escaloes,\"escalão\",\"número de alunos\")\n",
    "        menu()        \n",
    "        \n",
    "if opcao == 5:\n",
    "    print('ESCOLHA UMA DISTRIBUIÇÃO:')\n",
    "    print('1- alunos por curso')\n",
    "    print('2- alunos por escalão')\n",
    "    distribuicao_Escolhida= int(input('escolha a distribuição a ser representada'))\n",
    "    \n",
    "    if distribuicao_Escolhida == 1:\n",
    "        dist_cursos = num_alunos_curso(lista_alunos)  \n",
    "        imprime_tabela (dist_cursos,\"curso\",\"número de alunos\")\n",
    "        menu()\n",
    "        \n",
    "    if distribuicao_Escolhida == 2:\n",
    "        dist_escaloes = num_alunos_escalao(lista_alunos)  \n",
    "        imprime_tabela (dist_escaloes,\"escalão\",\"número de alunos\")\n",
    "        menu()        \n",
    "\n",
    "if opcao == 6:\n",
    "    print('TERMINADO')"
   ]
  }
 ],
 "metadata": {
  "kernelspec": {
   "display_name": "Python 3.10.7 64-bit",
   "language": "python",
   "name": "python3"
  },
  "language_info": {
   "codemirror_mode": {
    "name": "ipython",
    "version": 3
   },
   "file_extension": ".py",
   "mimetype": "text/x-python",
   "name": "python",
   "nbconvert_exporter": "python",
   "pygments_lexer": "ipython3",
   "version": "3.10.7"
  },
  "orig_nbformat": 4,
  "vscode": {
   "interpreter": {
    "hash": "11bc3faa42291987dff8047a7fe728de8bffd01e5e426b1fc111590146fa91bf"
   }
  }
 },
 "nbformat": 4,
 "nbformat_minor": 2
}
